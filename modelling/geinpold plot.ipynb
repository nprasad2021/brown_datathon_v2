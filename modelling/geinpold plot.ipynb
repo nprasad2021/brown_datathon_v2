{
 "cells": [
  {
   "cell_type": "code",
   "execution_count": 1,
   "metadata": {},
   "outputs": [],
   "source": [
    "import pandas as pd\n",
    "import datetime\n",
    "import numpy as np\n",
    "import"
   ]
  },
  {
   "cell_type": "code",
   "execution_count": 2,
   "metadata": {},
   "outputs": [],
   "source": [
    "ACTIVITY_DATA = \"/Users/neeraj/Documents/Hackathons/data_brown_datathon/TripAdvisor/activity_data.csv\"\n",
    "HOTEL_DATA = \"/Users/neeraj/Documents/Hackathons/data_brown_datathon/TripAdvisor/hotel_data.csv\""
   ]
  },
  {
   "cell_type": "code",
   "execution_count": 3,
   "metadata": {},
   "outputs": [
    {
     "data": {
      "text/html": [
       "<div>\n",
       "<style scoped>\n",
       "    .dataframe tbody tr th:only-of-type {\n",
       "        vertical-align: middle;\n",
       "    }\n",
       "\n",
       "    .dataframe tbody tr th {\n",
       "        vertical-align: top;\n",
       "    }\n",
       "\n",
       "    .dataframe thead th {\n",
       "        text-align: right;\n",
       "    }\n",
       "</style>\n",
       "<table border=\"1\" class=\"dataframe\">\n",
       "  <thead>\n",
       "    <tr style=\"text-align: right;\">\n",
       "      <th></th>\n",
       "      <th>user_id</th>\n",
       "      <th>hotel_id</th>\n",
       "      <th>user_action</th>\n",
       "      <th>timestamp</th>\n",
       "      <th>hotel_name</th>\n",
       "    </tr>\n",
       "  </thead>\n",
       "  <tbody>\n",
       "    <tr>\n",
       "      <th>0</th>\n",
       "      <td>314066</td>\n",
       "      <td>570101</td>\n",
       "      <td>1</td>\n",
       "      <td>1.546837e+09</td>\n",
       "      <td>La Quinta Inn Queens (New York City)</td>\n",
       "    </tr>\n",
       "    <tr>\n",
       "      <th>974</th>\n",
       "      <td>229655</td>\n",
       "      <td>570101</td>\n",
       "      <td>1</td>\n",
       "      <td>1.547442e+09</td>\n",
       "      <td>La Quinta Inn Queens (New York City)</td>\n",
       "    </tr>\n",
       "    <tr>\n",
       "      <th>2409</th>\n",
       "      <td>135830</td>\n",
       "      <td>570101</td>\n",
       "      <td>1</td>\n",
       "      <td>1.547960e+09</td>\n",
       "      <td>La Quinta Inn Queens (New York City)</td>\n",
       "    </tr>\n",
       "    <tr>\n",
       "      <th>2840</th>\n",
       "      <td>222524</td>\n",
       "      <td>570101</td>\n",
       "      <td>2</td>\n",
       "      <td>1.546924e+09</td>\n",
       "      <td>La Quinta Inn Queens (New York City)</td>\n",
       "    </tr>\n",
       "    <tr>\n",
       "      <th>4468</th>\n",
       "      <td>51835</td>\n",
       "      <td>570101</td>\n",
       "      <td>1</td>\n",
       "      <td>1.547096e+09</td>\n",
       "      <td>La Quinta Inn Queens (New York City)</td>\n",
       "    </tr>\n",
       "  </tbody>\n",
       "</table>\n",
       "</div>"
      ],
      "text/plain": [
       "      user_id  hotel_id  user_action     timestamp  \\\n",
       "0      314066    570101            1  1.546837e+09   \n",
       "974    229655    570101            1  1.547442e+09   \n",
       "2409   135830    570101            1  1.547960e+09   \n",
       "2840   222524    570101            2  1.546924e+09   \n",
       "4468    51835    570101            1  1.547096e+09   \n",
       "\n",
       "                                hotel_name  \n",
       "0     La Quinta Inn Queens (New York City)  \n",
       "974   La Quinta Inn Queens (New York City)  \n",
       "2409  La Quinta Inn Queens (New York City)  \n",
       "2840  La Quinta Inn Queens (New York City)  \n",
       "4468  La Quinta Inn Queens (New York City)  "
      ]
     },
     "execution_count": 3,
     "metadata": {},
     "output_type": "execute_result"
    }
   ],
   "source": [
    "if not os.path.exists(\"tmp_network.csv\"):\n",
    "    activity_df = pd.read_csv(ACTIVITY_DATA)\n",
    "    hotel_df = pd.read_csv(HOTEL_DATA).set_index('hotel_id')\n",
    "    activity_df.head()\n",
    "\n",
    "    to_timestamp = lambda x: datetime.datetime.strptime(x,'%Y-%m-%d').timestamp()\n",
    "    activity_df['timestamp'] = activity_df['date'].apply(to_timestamp)\n",
    "    #PUT IN GEOLOCATOR LATER FOR HOTELS AND FOR USERS\n",
    "\n",
    "    def encode(a):\n",
    "        encodings = {'view':1, 'price_click':2, 'hotel_website_click':3, 'booking':4}\n",
    "        return encodings[a]\n",
    "\n",
    "    activity_df['user_action'] = activity_df['user_action'].apply(encode)\n",
    "    activity_df = activity_df.drop(columns = ['date','user_country','device'])\n",
    "\n",
    "    hotel_df = hotel_df['hotel_name']\n",
    "\n",
    "    df = activity_df.join(hotel_df, how = 'inner', on = 'hotel_id')\n",
    "else:\n",
    "    df = pd.read_csv(\"tmp_network.csv\")    \n",
    "df.head()"
   ]
  },
  {
   "cell_type": "code",
   "execution_count": 4,
   "metadata": {},
   "outputs": [],
   "source": [
    "df.to_csv(\"tmp_network.csv\")\n",
    "import networkx as nx"
   ]
  },
  {
   "cell_type": "code",
   "execution_count": 5,
   "metadata": {},
   "outputs": [],
   "source": [
    "dft = df.iloc[:1000, :]\n",
    "user_ids = [-1*v for v in list(np.unique(dft.user_id))]\n",
    "hotel_ids = list(np.unique(dft.hotel_id))"
   ]
  },
  {
   "cell_type": "code",
   "execution_count": 6,
   "metadata": {},
   "outputs": [],
   "source": [
    "g = nx.Graph()\n",
    "g.add_nodes_from(user_ids)\n",
    "g.add_nodes_from(hotel_ids)\n",
    "E = []\n",
    "for user_id, hotel_id in zip(dft.user_id, dft.hotel_id):\n",
    "    E.append((-1*user_id, hotel_id))\n",
    "g.add_edges_from(E)"
   ]
  },
  {
   "cell_type": "code",
   "execution_count": 7,
   "metadata": {},
   "outputs": [],
   "source": [
    "pos=nx.fruchterman_reingold_layout(g) "
   ]
  },
  {
   "cell_type": "code",
   "execution_count": 8,
   "metadata": {},
   "outputs": [],
   "source": [
    "Xv=[pos[k][0] for k in user_ids] + [pos[k][0] for k in hotel_ids]\n",
    "Yv=[pos[k][1] for k in user_ids] + [pos[k][1] for k in hotel_ids]\n",
    "Xed=[]\n",
    "Yed=[]\n",
    "\n",
    "for edge in E:\n",
    "    Xed+=[pos[edge[0]][0],pos[edge[1]][0], None]\n",
    "    Yed+=[pos[edge[0]][1],pos[edge[1]][1], None] "
   ]
  },
  {
   "cell_type": "code",
   "execution_count": 10,
   "metadata": {},
   "outputs": [],
   "source": [
    "import plotly.plotly as py\n",
    "from plotly.graph_objs import *"
   ]
  },
  {
   "cell_type": "code",
   "execution_count": null,
   "metadata": {},
   "outputs": [],
   "source": [
    "width=800\n",
    "height=800\n",
    "axis=dict(showline=False, # hide axis line, grid, ticklabels and  title\n",
    "          zeroline=False,\n",
    "          showgrid=False,\n",
    "          showticklabels=False,\n",
    "          title='' \n",
    "          )\n",
    "layout=Layout(title= \"Coauthorship network of scientists working on network theory and experiment\"+\\\n",
    "              \"<br> Data source: <a href='https://networkdata.ics.uci.edu/data.php?id=11'> [1]</a>\",  \n",
    "    font= dict(size=12),\n",
    "    showlegend=False,\n",
    "    autosize=False,\n",
    "    width=width,\n",
    "    height=height,\n",
    "    xaxis=layout.XAxis(axis),\n",
    "    yaxis=layout.YAxis(axis),          \n",
    "    margin=layout.Margin(\n",
    "        l=40,\n",
    "        r=40,\n",
    "        b=85,\n",
    "        t=100,\n",
    "    ),\n",
    "    hovermode='closest',\n",
    "    annotations=[\n",
    "           dict(\n",
    "           showarrow=False, \n",
    "            text='This igraph.Graph has the Kamada-Kawai layout',  \n",
    "            xref='paper',     \n",
    "            yref='paper',     \n",
    "            x=0,  \n",
    "            y=-0.1,  \n",
    "            xanchor='left',   \n",
    "            yanchor='bottom',  \n",
    "            font=dict(\n",
    "            size=14 \n",
    "            )     \n",
    "            )\n",
    "        ]          \n",
    "    )\n",
    "trace3=Scatter(x=Xed,\n",
    "               y=Yed,\n",
    "               mode='lines',\n",
    "               line=dict(color='rgb(210,210,210)', width=1),\n",
    "               hoverinfo='none'\n",
    "               )\n",
    "trace4=Scatter(x=Xv,\n",
    "               y=Yv,\n",
    "               mode='markers',\n",
    "               name='net',\n",
    "               marker=dict(symbol='circle-dot',\n",
    "                             size=5, \n",
    "                             color='#6959CD',\n",
    "                             line=dict(color='rgb(50,50,50)', width=0.5)\n",
    "                             ),\n",
    "               hoverinfo='text'\n",
    "               )\n",
    "\n",
    "annot=\"This networkx.Graph has the Fruchterman-Reingold layout<br>Code:\"+\\\n",
    "\"<a href='http://nbviewer.ipython.org/gist/empet/07ea33b2e4e0b84193bd'> [2]</a>\"\n",
    "\n",
    "data1=[trace3, trace4]\n",
    "fig1=Figure(data=data1, layout=layout)\n",
    "fig1['layout']['annotations'][0]['text']=annot\n",
    "py.iplot(fig1, filename='Coautorship-network-nx')"
   ]
  },
  {
   "cell_type": "code",
   "execution_count": null,
   "metadata": {},
   "outputs": [],
   "source": []
  }
 ],
 "metadata": {
  "kernelspec": {
   "display_name": "dash",
   "language": "python",
   "name": "dash"
  },
  "language_info": {
   "codemirror_mode": {
    "name": "ipython",
    "version": 3
   },
   "file_extension": ".py",
   "mimetype": "text/x-python",
   "name": "python",
   "nbconvert_exporter": "python",
   "pygments_lexer": "ipython3",
   "version": "3.7.2"
  }
 },
 "nbformat": 4,
 "nbformat_minor": 2
}
